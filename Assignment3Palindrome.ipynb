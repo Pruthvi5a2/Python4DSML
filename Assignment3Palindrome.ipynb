{
  "nbformat": 4,
  "nbformat_minor": 0,
  "metadata": {
    "colab": {
      "name": "Assignment3Palindrome.ipynb",
      "provenance": [],
      "authorship_tag": "ABX9TyPwo4qp+q47ZW3DkYER6d3k"
    },
    "kernelspec": {
      "name": "python3",
      "display_name": "Python 3"
    }
  },
  "cells": [
    {
      "cell_type": "code",
      "metadata": {
        "colab": {
          "base_uri": "https://localhost:8080/"
        },
        "id": "JYex_AGCotZZ",
        "outputId": "5f24c0cc-e3a5-461e-b512-c9ee3f4253ea"
      },
      "source": [
        "x=int(input())\r\n",
        "xx=x\r\n",
        "l=len(str(x))\r\n",
        "rem=0\r\n",
        "for i in range(0,l):\r\n",
        "  r=x%10\r\n",
        "  rem=rem*10+r\r\n",
        "  x=x//10\r\n",
        "if xx==rem:\r\n",
        "  print('Palindrome')\r\n",
        "else:\r\n",
        "  print(\"Not Palindrome\")"
      ],
      "execution_count": 7,
      "outputs": [
        {
          "output_type": "stream",
          "text": [
            "121\n",
            "Palindrome\n"
          ],
          "name": "stdout"
        }
      ]
    }
  ]
}